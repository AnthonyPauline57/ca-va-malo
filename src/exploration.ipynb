{
 "cells": [
  {
   "cell_type": "markdown",
   "id": "4276616d-42f5-45db-8685-b0662eef0d72",
   "metadata": {},
   "source": [
    "# Exploration"
   ]
  },
  {
   "cell_type": "markdown",
   "id": "0520a409-2594-44e1-92b9-8a67e4566782",
   "metadata": {},
   "source": [
    "There are 13 features in the dataset, and each feature indicates some details of Google application name, category, rating, reviews, size, installs, type, price, content rating genres, last updated, current version and Android version.\n",
    "- App: The application name.\n",
    "- Category: The category the app belongs to.\n",
    "- Rating: Overall user rating of the app.\n",
    "- Reviews: Number of user reviews for the app.\n",
    "- Size: The size of the app.\n",
    "- Installs: Number of user installs for the app.\n",
    "- Type: Either \"Paid\" or \"Free\".\n",
    "- Price: The price of the app.\n",
    "- Content Rating: The age group the app is targeted at - \"Children\" / \"Mature 21+\" / \"Adult\".\n",
    "- Genres: Possibly multiple genres the app belongs to.\n",
    "- Last Updated: The date the app was last updated.\n",
    "- Current Ver: The current version of the app.\n",
    "- Android Ver: The Android version is needed for this app."
   ]
  },
  {
   "cell_type": "code",
   "execution_count": null,
   "id": "d1530ac4-36bf-4dfc-ac21-846b6ba8161a",
   "metadata": {},
   "outputs": [],
   "source": [
    "import pandas as pd\n",
    "from utils import data"
   ]
  },
  {
   "cell_type": "code",
   "execution_count": null,
   "id": "45f7bbb3-903d-4900-91bb-1ca4dffa7dd7",
   "metadata": {},
   "outputs": [],
   "source": [
    "data.head()"
   ]
  },
  {
   "cell_type": "code",
   "execution_count": null,
   "id": "6408d492-c8f4-4437-ade1-b1634e7a33e5",
   "metadata": {},
   "outputs": [],
   "source": [
    "# On remarque que la première colonne n'a pas de nom.\n",
    "data.rename(columns={'Unnamed: 0': 'id'}, inplace=True)\n",
    "data.columns"
   ]
  },
  {
   "cell_type": "code",
   "execution_count": null,
   "id": "2f51ef11-fff7-45cd-9469-b5d259ae6104",
   "metadata": {},
   "outputs": [],
   "source": [
    "data.shape"
   ]
  },
  {
   "cell_type": "markdown",
   "id": "5ab300d3-4ef4-4b21-9c0c-d594c392b9a8",
   "metadata": {},
   "source": [
    "## Verification de l'integrité des données"
   ]
  },
  {
   "cell_type": "code",
   "execution_count": null,
   "id": "28e74dd5-c5a6-42d8-8b8c-3eab9850c63f",
   "metadata": {},
   "outputs": [],
   "source": [
    "# Est-ce qu'il y a des nulls ?\n",
    "data.isnull().sum()"
   ]
  },
  {
   "cell_type": "code",
   "execution_count": null,
   "id": "0fbe5131-53df-4898-b954-0aa554a787e3",
   "metadata": {},
   "outputs": [],
   "source": [
    "# Combien de valeurs uniques par colonne ?\n",
    "for col in data.columns:\n",
    "    print(f\"{col}:\")\n",
    "    unique = data[col].unique()\n",
    "    unique_length = unique.size\n",
    "    print(f\"\\t Unique count: {unique_length}\")\n",
    "    # Et pour ceux avoir moins de 50 valeurs on les affiches\n",
    "    if unique_length > 50:\n",
    "        print(\"\\t Too Many Values\")\n",
    "    else:\n",
    "        print(f\"\\t {unique}\")\n",
    "    print()\n",
    "    "
   ]
  },
  {
   "cell_type": "markdown",
   "id": "5e65bc66",
   "metadata": {},
   "source": [
    "On constate qu'une ligne a ses colonnes est décalée\n"
   ]
  },
  {
   "cell_type": "code",
   "execution_count": null,
   "id": "33e92967",
   "metadata": {},
   "outputs": [],
   "source": [
    "data[data['Installs'] == 'Free']"
   ]
  }
 ],
 "metadata": {
  "kernelspec": {
   "display_name": "Python 3 (ipykernel)",
   "language": "python",
   "name": "python3"
  },
  "language_info": {
   "codemirror_mode": {
    "name": "ipython",
    "version": 3
   },
   "file_extension": ".py",
   "mimetype": "text/x-python",
   "name": "python",
   "nbconvert_exporter": "python",
   "pygments_lexer": "ipython3",
   "version": "3.12.2"
  }
 },
 "nbformat": 4,
 "nbformat_minor": 5
}
