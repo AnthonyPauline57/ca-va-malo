{
 "cells": [
  {
   "cell_type": "markdown",
   "metadata": {},
   "source": [
    "# Nettoyage des données"
   ]
  },
  {
   "cell_type": "code",
   "execution_count": 10,
   "metadata": {},
   "outputs": [],
   "source": [
    "from dateutil.parser import parse\n",
    "from utils import data"
   ]
  },
  {
   "cell_type": "markdown",
   "metadata": {},
   "source": [
    "Suppression de la ligne dont les colonnes sont décalées"
   ]
  },
  {
   "cell_type": "code",
   "execution_count": 11,
   "metadata": {},
   "outputs": [],
   "source": [
    "data = data[data['Installs'] != 'Free']"
   ]
  },
  {
   "cell_type": "markdown",
   "metadata": {},
   "source": [
    "Transformation de la colonne \"Last Updated\" en date"
   ]
  },
  {
   "cell_type": "code",
   "execution_count": 12,
   "metadata": {},
   "outputs": [
    {
     "name": "stderr",
     "output_type": "stream",
     "text": [
      "C:\\Users\\clement\\AppData\\Local\\Temp\\ipykernel_6272\\3656646732.py:1: SettingWithCopyWarning: \n",
      "A value is trying to be set on a copy of a slice from a DataFrame.\n",
      "Try using .loc[row_indexer,col_indexer] = value instead\n",
      "\n",
      "See the caveats in the documentation: https://pandas.pydata.org/pandas-docs/stable/user_guide/indexing.html#returning-a-view-versus-a-copy\n",
      "  data[\"Last Updated\"] = data[\"Last Updated\"].apply(lambda x: parse(x))\n"
     ]
    },
    {
     "data": {
      "text/plain": [
       "Unnamed: 0                 int64\n",
       "App                       object\n",
       "Category                  object\n",
       "Rating                   float64\n",
       "Reviews                   object\n",
       "Size                      object\n",
       "Installs                  object\n",
       "Type                      object\n",
       "Price                     object\n",
       "Content Rating            object\n",
       "Genres                    object\n",
       "Last Updated      datetime64[ns]\n",
       "Current Ver               object\n",
       "Android Ver               object\n",
       "dtype: object"
      ]
     },
     "execution_count": 12,
     "metadata": {},
     "output_type": "execute_result"
    }
   ],
   "source": [
    "data[\"Last Updated\"] = data[\"Last Updated\"].apply(lambda x: parse(x))\n",
    "data.dtypes"
   ]
  },
  {
   "cell_type": "markdown",
   "metadata": {},
   "source": [
    "Créer une colonnes avec le nombre d'installation en nombre"
   ]
  },
  {
   "cell_type": "code",
   "execution_count": 13,
   "metadata": {},
   "outputs": [
    {
     "name": "stderr",
     "output_type": "stream",
     "text": [
      "<>:1: SyntaxWarning: invalid escape sequence '\\+'\n",
      "<>:1: SyntaxWarning: invalid escape sequence '\\+'\n",
      "C:\\Users\\clement\\AppData\\Local\\Temp\\ipykernel_6272\\459097858.py:1: SyntaxWarning: invalid escape sequence '\\+'\n",
      "  data['Installs'] = data['Installs'].str.replace('[\\+,]', '', regex=True).astype(int)\n",
      "C:\\Users\\clement\\AppData\\Local\\Temp\\ipykernel_6272\\459097858.py:1: SettingWithCopyWarning: \n",
      "A value is trying to be set on a copy of a slice from a DataFrame.\n",
      "Try using .loc[row_indexer,col_indexer] = value instead\n",
      "\n",
      "See the caveats in the documentation: https://pandas.pydata.org/pandas-docs/stable/user_guide/indexing.html#returning-a-view-versus-a-copy\n",
      "  data['Installs'] = data['Installs'].str.replace('[\\+,]', '', regex=True).astype(int)\n"
     ]
    },
    {
     "data": {
      "text/plain": [
       "array([     10000,     500000,    5000000,   50000000,     100000,\n",
       "            50000,    1000000,   10000000,       5000,  100000000,\n",
       "       1000000000,       1000,  500000000,         50,        100,\n",
       "              500,         10,          1,          5,          0])"
      ]
     },
     "execution_count": 13,
     "metadata": {},
     "output_type": "execute_result"
    }
   ],
   "source": [
    "data['Installs'] = data['Installs'].str.replace('[\\+,]', '', regex=True).astype(int)\n",
    "data['Installs'].unique()"
   ]
  },
  {
   "cell_type": "code",
   "execution_count": 14,
   "metadata": {},
   "outputs": [
    {
     "name": "stderr",
     "output_type": "stream",
     "text": [
      "C:\\Users\\clement\\AppData\\Local\\Temp\\ipykernel_6272\\90886282.py:1: SettingWithCopyWarning: \n",
      "A value is trying to be set on a copy of a slice from a DataFrame.\n",
      "Try using .loc[row_indexer,col_indexer] = value instead\n",
      "\n",
      "See the caveats in the documentation: https://pandas.pydata.org/pandas-docs/stable/user_guide/indexing.html#returning-a-view-versus-a-copy\n",
      "  data['Price'] = data['Price'].str.replace('[$]', '', regex=True).astype(float)\n"
     ]
    }
   ],
   "source": [
    "data['Price'] = data['Price'].str.replace('[$]', '', regex=True).astype(float)"
   ]
  }
 ],
 "metadata": {
  "kernelspec": {
   "display_name": "Python 3",
   "language": "python",
   "name": "python3"
  },
  "language_info": {
   "codemirror_mode": {
    "name": "ipython",
    "version": 3
   },
   "file_extension": ".py",
   "mimetype": "text/x-python",
   "name": "python",
   "nbconvert_exporter": "python",
   "pygments_lexer": "ipython3",
   "version": "3.12.2"
  }
 },
 "nbformat": 4,
 "nbformat_minor": 2
}
