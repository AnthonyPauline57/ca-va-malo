{
 "cells": [
  {
   "cell_type": "code",
   "execution_count": 2,
   "metadata": {},
   "outputs": [],
   "source": [
    "import pandas as pd"
   ]
  },
  {
   "cell_type": "code",
   "execution_count": 4,
   "metadata": {},
   "outputs": [],
   "source": [
    "data = pd.read_csv('../data/googleplaystore.csv')"
   ]
  },
  {
   "cell_type": "code",
   "execution_count": 5,
   "metadata": {},
   "outputs": [
    {
     "name": "stdout",
     "output_type": "stream",
     "text": [
      "   Unnamed: 0                                                App  \\\n",
      "0           0     Photo Editor & Candy Camera & Grid & ScrapBook   \n",
      "1           1                                Coloring book moana   \n",
      "2           2  U Launcher Lite – FREE Live Cool Themes, Hide ...   \n",
      "3           3                              Sketch - Draw & Paint   \n",
      "4           4              Pixel Draw - Number Art Coloring Book   \n",
      "\n",
      "         Category  Rating Reviews  Size     Installs  Type Price  \\\n",
      "0  ART_AND_DESIGN     4.1     159   19M      10,000+  Free     0   \n",
      "1  ART_AND_DESIGN     3.9     967   14M     500,000+  Free     0   \n",
      "2  ART_AND_DESIGN     4.7   87510  8.7M   5,000,000+  Free     0   \n",
      "3  ART_AND_DESIGN     4.5  215644   25M  50,000,000+  Free     0   \n",
      "4  ART_AND_DESIGN     4.3     967  2.8M     100,000+  Free     0   \n",
      "\n",
      "  Content Rating                     Genres Last Updated         Current Ver  \\\n",
      "0       Everyone               Art & Design     7-Jan-18               1.0.0   \n",
      "1       Everyone  Art & Design;Pretend Play    15-Jan-18               2.0.0   \n",
      "2       Everyone               Art & Design     1-Aug-18               1.2.4   \n",
      "3           Teen               Art & Design     8-Jun-18  Varies with device   \n",
      "4       Everyone    Art & Design;Creativity    20-Jun-18                 1.1   \n",
      "\n",
      "    Android Ver  \n",
      "0  4.0.3 and up  \n",
      "1  4.0.3 and up  \n",
      "2  4.0.3 and up  \n",
      "3    4.2 and up  \n",
      "4    4.4 and up  \n"
     ]
    }
   ],
   "source": [
    "print(data.head())"
   ]
  },
  {
   "cell_type": "code",
   "execution_count": null,
   "metadata": {},
   "outputs": [],
   "source": []
  }
 ],
 "metadata": {
  "kernelspec": {
   "display_name": "Python 3 (ipykernel)",
   "language": "python",
   "name": "python3"
  },
  "language_info": {
   "codemirror_mode": {
    "name": "ipython",
    "version": 3
   },
   "file_extension": ".py",
   "mimetype": "text/x-python",
   "name": "python",
   "nbconvert_exporter": "python",
   "pygments_lexer": "ipython3",
   "version": "3.9.5"
  }
 },
 "nbformat": 4,
 "nbformat_minor": 4
}
